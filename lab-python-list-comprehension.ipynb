{
 "cells": [
  {
   "cell_type": "markdown",
   "id": "25d7736c-ba17-4aff-b6bb-66eba20fbf4e",
   "metadata": {},
   "source": [
    "# Lab | List, Dict and Set Comprehension"
   ]
  },
  {
   "cell_type": "markdown",
   "id": "7dd3cbde-675a-4b81-92c3-f728846dbe06",
   "metadata": {},
   "source": [
    "## Exercise: Managing Customer Orders Optimized with Comprehension"
   ]
  },
  {
   "cell_type": "markdown",
   "id": "5d500160-2fb7-4777-b5e4-09d45ebaf328",
   "metadata": {},
   "source": [
    "In the previous exercise, you developed a program to manage customer orders and inventory. Now, let's take it a step further and incorporate comprehension into your code.\n",
    "\n",
    "Follow the steps below to complete the exercise:\n",
    "\n",
    "1. Review your code from the previous exercise and identify areas where you can apply comprehension to simplify and streamline your code. \n",
    "\n",
    "    - *Hint: Apply it to initialize inventory, updating the inventory and printing the updated inventory.*\n",
    "    \n",
    "    - For example, in initializing the inventory, we could have:\n",
    "    \n",
    "        ```python\n",
    "        def initialize_inventory(products):\n",
    "            inventory = {product: int(input(f\"Enter the quantity of {product}s available: \")) for product in products}\n",
    "            return inventory\n",
    "\n",
    "        ```\n",
    "<br>\n",
    "    \n",
    "    \n",
    "2. Modify the function get_customer_orders so it prompts the user to enter the number of customer orders and gathers the product names using a loop and user input. Use comprehension.\n",
    "\n",
    "3. Add a new function to calculate the total price of the customer order. For each product in customer_orders, prompt the user to enter the price of that product. Use comprehension to calculate the total price. Note: assume that the user can only have 1 unit of each product.\n",
    "\n",
    "4. Modify the update_inventory function to remove the product from the inventory if its quantity becomes zero after fulfilling the customer orders. Use comprehension to filter out the products with a quantity of zero from the inventory.\n",
    "\n",
    "5. Print the total price of the customer order.\n",
    "\n",
    "Your code should produce output similar to the following:\n",
    "\n",
    "```python\n",
    "Enter the quantity of t-shirts available:  5\n",
    "Enter the quantity of mugs available:  4\n",
    "Enter the quantity of hats available:  3\n",
    "Enter the quantity of books available:  2\n",
    "Enter the quantity of keychains available:  1\n",
    "Enter the number of customer orders:  2\n",
    "Enter the name of a product that a customer wants to order:  hat\n",
    "Enter the name of a product that a customer wants to order:  keychain\n",
    "\n",
    "Order Statistics:\n",
    "Total Products Ordered: 2\n",
    "Percentage of Unique Products Ordered: 40.0\n",
    "\n",
    "Updated Inventory:\n",
    "t-shirt: 5\n",
    "mug: 4\n",
    "hat: 2\n",
    "book: 2\n",
    "Enter the price of keychain:  5\n",
    "Enter the price of hat:  10\n",
    "Total Price: 15.0\n",
    "\n",
    "```\n"
   ]
  },
  {
   "cell_type": "code",
   "execution_count": 2,
   "id": "c6d982bc",
   "metadata": {},
   "outputs": [
    {
     "name": "stdout",
     "output_type": "stream",
     "text": [
      "Enter the quantity of t-shirts available: 4\n",
      "Enter the quantity of mugs available: 4\n",
      "Enter the quantity of hats available: 4\n",
      "Enter the quantity of books available: 4\n",
      "Enter the quantity of keychains available: 4\n"
     ]
    },
    {
     "data": {
      "text/plain": [
       "{'t-shirt': 4, 'mug': 4, 'hat': 4, 'book': 4, 'keychain': 4}"
      ]
     },
     "execution_count": 2,
     "metadata": {},
     "output_type": "execute_result"
    }
   ],
   "source": [
    "products = ['t-shirt', 'mug', 'hat', 'book', 'keychain']\n",
    "inventory = {}\n",
    "\n",
    "def initialize_inventory(products):\n",
    "    inventory = {product: int(input(f\"Enter the quantity of {product}s available: \")) for product in products}\n",
    "    return inventory\n",
    "\n",
    "initialize_inventory(products)"
   ]
  },
  {
   "cell_type": "code",
   "execution_count": 57,
   "id": "35e6234c",
   "metadata": {},
   "outputs": [
    {
     "name": "stdout",
     "output_type": "stream",
     "text": [
      "input customer orders and once finished input \"done\" \n",
      "input total number of orders: 2\n",
      "2\n",
      "mug\n",
      "book\n",
      "done\n",
      "Customer Orders: {'mug', 'book'}\n"
     ]
    }
   ],
   "source": [
    "\"\"\"2- Modify the function get_customer_orders so it prompts the user to enter the number of customer orders \n",
    "and gathers the product names using a loop and user input. Use comprehension.\"\"\"\n",
    "\n",
    "\n",
    "print('input customer orders and once finished input \"done\" ')\n",
    "def get_customer_orders():\n",
    "    tn = print(input(\"input total number of orders: \"))\n",
    "    orders = {prod for prod in iter(input, \"done\")}\n",
    "    return orders\n",
    "\n",
    "orders_set = get_customer_orders()\n",
    "print(f\"Customer Orders: {orders_set}\")\n"
   ]
  },
  {
   "cell_type": "code",
   "execution_count": 47,
   "id": "52cc8590",
   "metadata": {},
   "outputs": [
    {
     "name": "stdout",
     "output_type": "stream",
     "text": [
      "input price of mug: 10\n",
      "input price of book: 15\n",
      "total price: 25\n"
     ]
    }
   ],
   "source": [
    "\"\"\"3- Add a new function to calculate the total price of the customer order. For each product in customer_orders, \n",
    "prompt the user to enter the price of that product. Use comprehension to calculate the total price. \n",
    "Note: assume that the user can only have 1 unit of each product.\"\"\"\n",
    "\n",
    "def total_price():\n",
    "        \n",
    "    total_price = sum([int(input(f\"input price of {price}: \")) for price in orders_set])\n",
    "    return total_price\n",
    "\n",
    "t_price = total_price()\n",
    "print(f\"total price: {t_price}\")\n",
    "\n"
   ]
  },
  {
   "cell_type": "code",
   "execution_count": 61,
   "id": "be27bc6f",
   "metadata": {},
   "outputs": [
    {
     "name": "stdout",
     "output_type": "stream",
     "text": [
      "{'mug': 4, 'book': 4, 'keychain': 4}\n"
     ]
    }
   ],
   "source": [
    "\"\"\"4- Modify the update_inventory function to remove the product from the inventory if its quantity becomes \n",
    "zero after fulfilling the customer orders. Use comprehension to filter out the products with a \n",
    "quantity of zero from the inventory.\"\"\"\n",
    "\n",
    "\n",
    "# Assuming that inventory has a product with 0 amount of it:\n",
    "# {'t-shirt': 0, 'mug': 4, 'hat': 0, 'book': 4, 'keychain': 4}\n",
    "\n",
    "inventory_1 = {'t-shirt': 0, 'mug': 4, 'hat': 0, 'book': 4, 'keychain': 4}\n",
    "def update_inventory1():\n",
    "    u_inventory = {key:value for key, value in inventory_1.items() if value > 0}\n",
    "    return u_inventory\n",
    "\n",
    "print(update_inventory1())\n"
   ]
  },
  {
   "cell_type": "code",
   "execution_count": null,
   "id": "2863dc9b",
   "metadata": {},
   "outputs": [],
   "source": []
  },
  {
   "cell_type": "code",
   "execution_count": null,
   "id": "4f729e5f",
   "metadata": {},
   "outputs": [],
   "source": []
  }
 ],
 "metadata": {
  "kernelspec": {
   "display_name": "Python 3 (ipykernel)",
   "language": "python",
   "name": "python3"
  },
  "language_info": {
   "codemirror_mode": {
    "name": "ipython",
    "version": 3
   },
   "file_extension": ".py",
   "mimetype": "text/x-python",
   "name": "python",
   "nbconvert_exporter": "python",
   "pygments_lexer": "ipython3",
   "version": "3.9.7"
  }
 },
 "nbformat": 4,
 "nbformat_minor": 5
}
